{
 "cells": [
  {
   "cell_type": "markdown",
   "metadata": {},
   "source": [
    "## Studio in frequenza di segnali"
   ]
  },
  {
   "cell_type": "code",
   "execution_count": 25,
   "metadata": {},
   "outputs": [],
   "source": [
    "import numpy as np\n",
    "from matplotlib import pyplot as plt\n",
    "from scipy import fft, signal\n",
    "from ipywidgets import interact, interactive, fixed, interact_manual\n",
    "import ipywidgets as widgets"
   ]
  },
  {
   "cell_type": "code",
   "execution_count": 26,
   "metadata": {},
   "outputs": [],
   "source": [
    "# Frenquenza in Hz\n",
    "freq = 0\n",
    "#Durata in secondi\n",
    "durata = 1\n",
    "#frequenza campionamento (al secondo)\n",
    "fs = 100\n",
    "#array per il tempo\n",
    "t = np.linspace(0, durata, int(fs*durata))"
   ]
  },
  {
   "cell_type": "markdown",
   "metadata": {},
   "source": [
    "## Studio Onda Sinusoidale"
   ]
  },
  {
   "cell_type": "code",
   "execution_count": null,
   "metadata": {},
   "outputs": [
    {
     "data": {
      "application/vnd.jupyter.widget-view+json": {
       "model_id": "4c4b2338900d4352b3ab30d5abb589bb",
       "version_major": 2,
       "version_minor": 0
      },
      "text/plain": [
       "interactive(children=(Dropdown(description='Frequenza:', options=(100, 200, 440), value=100), Dropdown(descrip…"
      ]
     },
     "metadata": {},
     "output_type": "display_data"
    }
   ],
   "source": [
    "# Funzione per aggiornare il grafico\n",
    "def update_plot(freq, wave_type):\n",
    "    if wave_type == 'Sinusoidale':\n",
    "        wave = np.sin(2 * np.pi * freq * t)\n",
    "    elif wave_type == 'Triangolare':\n",
    "        wave = signal.sawtooth(2 * np.pi * freq * t, 0.5)\n",
    "    elif wave_type == 'Quadra':\n",
    "        wave = signal.square(2 * np.pi * freq * t)\n",
    "    \n",
    "    # Trasformata dell'onda\n",
    "    ft_wave = fft.fft(wave)\n",
    "\n",
    "    # plot\n",
    "    fig, ax = plt.subplots(nrows=1, ncols=3, figsize=(20, 5))\n",
    "\n",
    "    # Onda nel tempo\n",
    "    ax[0].plot(t, wave, \"r\")\n",
    "    ax[0].set_title(f\"Onda {wave_type}\")\n",
    "    ax[0].set_xlabel(\"Tempo (s)\")\n",
    "    ax[0].set_ylabel(\"Ampiezza\")\n",
    "\n",
    "    # Parte reale ft (pari)\n",
    "    ax[1].plot(np.fft.fftshift(np.real(ft_wave)), \"b\")\n",
    "    ax[1].set_title(\"Parte Reale\")\n",
    "    ax[1].set_xlabel(\"Indice Frequenza\")\n",
    "    ax[1].set_ylabel(\"Ampiezza\")\n",
    "\n",
    "    # Parte immaginaria ft (dispari)\n",
    "    ax[2].plot(np.fft.fftshift(np.imag(ft_wave)), \"g\")\n",
    "    ax[2].set_title(\"Parte Immaginaria\")\n",
    "    ax[2].set_xlabel(\"Indice Frequenza\")\n",
    "    ax[2].set_ylabel(\"Ampiezza\")\n",
    "\n",
    "    plt.show()\n",
    "\n",
    "# Selettore per la frequenza\n",
    "freq_selector = widgets.Dropdown(\n",
    "    options=[100, 200, 440],\n",
    "    value=100,\n",
    "    description='Frequenza:',\n",
    ")\n",
    "\n",
    "# Selettore per il tipo di onda\n",
    "wave_type_selector = widgets.Dropdown(\n",
    "    options=['Sinusoidale', 'Triangolare', 'Quadra'],\n",
    "    value='Sinusoidale',\n",
    "    description='Tipo di Onda:',\n",
    ")\n",
    "\n",
    "# collegamento tra i selettori e la funzione del plot\n",
    "interactive_plot = widgets.interactive(update_plot, freq=freq_selector, wave_type=wave_type_selector)\n",
    "\n",
    "# Visualizzare i selettori e il plot\n",
    "display(interactive_plot)"
   ]
  }
 ],
 "metadata": {
  "kernelspec": {
   "display_name": "Python 3",
   "language": "python",
   "name": "python3"
  },
  "language_info": {
   "codemirror_mode": {
    "name": "ipython",
    "version": 3
   },
   "file_extension": ".py",
   "mimetype": "text/x-python",
   "name": "python",
   "nbconvert_exporter": "python",
   "pygments_lexer": "ipython3",
   "version": "3.13.1"
  }
 },
 "nbformat": 4,
 "nbformat_minor": 2
}
